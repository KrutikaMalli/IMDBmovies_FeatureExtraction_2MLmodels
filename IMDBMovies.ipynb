{
  "nbformat": 4,
  "nbformat_minor": 0,
  "metadata": {
    "colab": {
      "provenance": [],
      "gpuType": "T4"
    },
    "kernelspec": {
      "name": "python3",
      "display_name": "Python 3"
    },
    "language_info": {
      "name": "python"
    },
    "accelerator": "GPU"
  },
  "cells": [
    {
      "cell_type": "markdown",
      "source": [
        "For this notebook, I have used IMDBmovies dataset ( this modified dataset contains only 15,000 rows)\n",
        "\n",
        "At the end of the notebook, you can find 2 trained models that predict sentiment based on the movie reviews, along with insights into their respective performances measured by accuracy and confusion matrices.\n",
        "\n",
        "**This comprehensive sentiment analysis pipeline serves as a solid foundation for exploring text classification using various feature extraction techniques and machine learning models.**\n",
        "\n",
        "\n",
        "**Work in progress, new techniques are yet to be added to this notebook**."
      ],
      "metadata": {
        "id": "eemhCzKhIcpk"
      }
    },
    {
      "cell_type": "markdown",
      "source": [
        "\n",
        "- **Workflow**: The code follows a clear pipeline for sentiment analysis, starting from loading and preprocessing the dataset, through feature extraction, to model training and evaluation.\n",
        "- **Feature Extraction Methods**:\n",
        "  - Bag of Words (BoW)\n",
        "  - TF-IDF\n",
        "  - Word2Vec embeddings\n",
        "\n",
        "- **Model Training**: It uses multiple classifiers (Naive Bayes and Random Forest) to predict sentiments based on the extracted features.\n",
        "\n",
        "- **Evaluation**: Accuracy scores and confusion matrices are generated to assess the performance of each model."
      ],
      "metadata": {
        "id": "jSRq3zTyIzoT"
      }
    },
    {
      "cell_type": "code",
      "source": [
        "import numpy as np\n",
        "import pandas as pd\n",
        "import nltk\n",
        "import re\n",
        "from nltk.corpus import stopwords\n",
        "nltk.download('stopwords')"
      ],
      "metadata": {
        "id": "IK79Ov_Y9CUT",
        "colab": {
          "base_uri": "https://localhost:8080/"
        },
        "outputId": "ba5107c1-7638-4634-a83f-e78df6e18cae"
      },
      "execution_count": null,
      "outputs": [
        {
          "output_type": "stream",
          "name": "stderr",
          "text": [
            "[nltk_data] Downloading package stopwords to /root/nltk_data...\n",
            "[nltk_data]   Package stopwords is already up-to-date!\n"
          ]
        },
        {
          "output_type": "execute_result",
          "data": {
            "text/plain": [
              "True"
            ]
          },
          "metadata": {},
          "execution_count": 17
        }
      ]
    },
    {
      "cell_type": "code",
      "source": [
        "\n",
        "\n",
        "# Try to read the file, handling potential errors\n",
        "try:\n",
        "    temp_df = pd.read_csv('IMDBmovies.csv')\n",
        "except pd.errors.ParserError as e:\n",
        "    print(f\"Error reading CSV: {e}\")\n",
        "    # If there's an error, try specifying different parameters to handle potential issues:\n",
        "    try:\n",
        "        temp_df = pd.read_csv('IMDBmovies.csv', error_bad_lines=False)  # Skip bad lines\n",
        "        print(\"Successfully read CSV by skipping bad lines.\")\n",
        "    except pd.errors.ParserError as e:\n",
        "        print(f\"Error reading CSV even after skipping bad lines: {e}\")\n",
        "        try:\n",
        "            temp_df = pd.read_csv('IMDBmovies.csv', quoting=pd.QUOTE_NONE, escapechar='\\\\')  # Handle special characters\n",
        "            print(\"Successfully read CSV by handling special characters.\")\n",
        "        except pd.errors.ParserError as e:\n",
        "            print(f\"Error reading CSV even after handling special characters: {e}\")\n",
        "\n",
        "# Proceed if the file was read successfully\n",
        "if 'temp_df' in locals():\n",
        "    df = temp_df.iloc[:15000]    #selects the first 15,000 rows for analysis and stores them in a new DataFrame df\n",
        "    df.head()"
      ],
      "metadata": {
        "id": "8c-II1CZHv2L"
      },
      "execution_count": null,
      "outputs": []
    },
    {
      "cell_type": "code",
      "execution_count": null,
      "metadata": {
        "id": "hlz9N4x97d8M"
      },
      "outputs": [],
      "source": [
        "\n",
        "# temp_df = pd.read_csv('IMDBmovies.csv')\n",
        "# df = temp_df.iloc[:15000]    #selects the first 15,000 rows for analysis and stores them in a new DataFrame df\n",
        "# df.head()"
      ]
    },
    {
      "cell_type": "code",
      "source": [
        "df.size"
      ],
      "metadata": {
        "colab": {
          "base_uri": "https://localhost:8080/"
        },
        "id": "wqndrbd_8oTE",
        "outputId": "717e08d9-7e65-4d96-f7e9-449d24f49582"
      },
      "execution_count": null,
      "outputs": [
        {
          "output_type": "execute_result",
          "data": {
            "text/plain": [
              "30000"
            ]
          },
          "metadata": {},
          "execution_count": 20
        }
      ]
    },
    {
      "cell_type": "code",
      "source": [
        "df['review'][1]"
      ],
      "metadata": {
        "colab": {
          "base_uri": "https://localhost:8080/",
          "height": 157
        },
        "id": "wXOcNtIc8qLY",
        "outputId": "00ae4072-137b-4e52-bfb8-cd6a672111e5"
      },
      "execution_count": null,
      "outputs": [
        {
          "output_type": "execute_result",
          "data": {
            "text/plain": [
              "'A wonderful little production. <br /><br />The filming technique is very unassuming- very old-time-BBC fashion and gives a comforting, and sometimes discomforting, sense of realism to the entire piece. <br /><br />The actors are extremely well chosen- Michael Sheen not only \"has got all the polari\" but he has all the voices down pat too! You can truly see the seamless editing guided by the references to Williams\\' diary entries, not only is it well worth the watching but it is a terrificly written and performed piece. A masterful production about one of the great master\\'s of comedy and his life. <br /><br />The realism really comes home with the little things: the fantasy of the guard which, rather than use the traditional \\'dream\\' techniques remains solid then disappears. It plays on our knowledge and our senses, particularly with the scenes concerning Orton and Halliwell and the sets (particularly of their flat with Halliwell\\'s murals decorating every surface) are terribly well done.'"
            ],
            "application/vnd.google.colaboratory.intrinsic+json": {
              "type": "string"
            }
          },
          "metadata": {},
          "execution_count": 21
        }
      ]
    },
    {
      "cell_type": "code",
      "source": [
        "df.duplicated().sum()"
      ],
      "metadata": {
        "colab": {
          "base_uri": "https://localhost:8080/"
        },
        "id": "UlpEvAOD8s9Q",
        "outputId": "7cb2bad7-d215-4206-9a00-e180bb1b2f81"
      },
      "execution_count": null,
      "outputs": [
        {
          "output_type": "execute_result",
          "data": {
            "text/plain": [
              "39"
            ]
          },
          "metadata": {},
          "execution_count": 22
        }
      ]
    },
    {
      "cell_type": "code",
      "source": [
        "df.drop_duplicates(inplace=True)"
      ],
      "metadata": {
        "colab": {
          "base_uri": "https://localhost:8080/"
        },
        "id": "7BzJ6nGx8w1-",
        "outputId": "c2bd501b-66f3-4301-efbc-153e45f1b986"
      },
      "execution_count": null,
      "outputs": [
        {
          "output_type": "stream",
          "name": "stderr",
          "text": [
            "<ipython-input-23-16cdb8520be8>:1: SettingWithCopyWarning: \n",
            "A value is trying to be set on a copy of a slice from a DataFrame\n",
            "\n",
            "See the caveats in the documentation: https://pandas.pydata.org/pandas-docs/stable/user_guide/indexing.html#returning-a-view-versus-a-copy\n",
            "  df.drop_duplicates(inplace=True)\n"
          ]
        }
      ]
    },
    {
      "cell_type": "code",
      "source": [
        "def remove_tags(raw_text):\n",
        "  if isinstance(raw_text, str):  # Check if the input is a string\n",
        "    cleaned_text = re.sub(re.compile('<.*?>'), '', raw_text)\n",
        "    return cleaned_text\n",
        "  return raw_text   # Return the original value if it's not a string"
      ],
      "metadata": {
        "id": "r2VO-NDa-UwC"
      },
      "execution_count": null,
      "outputs": []
    },
    {
      "cell_type": "markdown",
      "source": [
        "A function remove_tags is defined to clean HTML tags from the text. It checks if the input is a string and applies a regular expression to remove any tags.\n",
        "The function is applied to the review column of the DataFrame."
      ],
      "metadata": {
        "id": "loPpo0L5J63r"
      }
    },
    {
      "cell_type": "code",
      "source": [
        "sw_list = stopwords.words('english')"
      ],
      "metadata": {
        "id": "-5uQgi3e_y9h"
      },
      "execution_count": null,
      "outputs": []
    },
    {
      "cell_type": "code",
      "source": [
        "df.loc[:, 'review'] = df['review'].apply(remove_tags)"
      ],
      "metadata": {
        "id": "V4NCL_Z_-XpM"
      },
      "execution_count": null,
      "outputs": []
    },
    {
      "cell_type": "code",
      "source": [
        "# Remove stopwords and convert to lower case\n",
        "df.loc[:, 'review'] = df['review'].apply(lambda x: [item for item in x.split() if item not in sw_list] if isinstance(x, str) else x).apply(lambda x: \" \".join(x) if isinstance(x, list) else x)  # Remove stopwords\n",
        "\n",
        "df.loc[:, 'review'] = df['review'].apply(lambda x: x.lower() if isinstance(x, str) else x)  # Convert to lowercase\n",
        "\n",
        "# Display the modified DataFrame\n",
        "print(df)"
      ],
      "metadata": {
        "colab": {
          "base_uri": "https://localhost:8080/"
        },
        "id": "8tIE_B37AKxy",
        "outputId": "90ad6cd8-c001-428d-f84d-08e29b000e67"
      },
      "execution_count": null,
      "outputs": [
        {
          "output_type": "stream",
          "name": "stdout",
          "text": [
            "                                                  review sentiment\n",
            "0      one reviewers mentioned watching 1 oz episode ...  positive\n",
            "1      a wonderful little production. the filming tec...  positive\n",
            "2      i thought wonderful way spend time hot summer ...  positive\n",
            "3      basically there's family little boy (jake) thi...  negative\n",
            "4      petter mattei's \"love time money\" visually stu...  positive\n",
            "...                                                  ...       ...\n",
            "14995  bobcat goldthwait commended attempting somethi...  negative\n",
            "14996  and since days \"clarissa explains it all\" i've...  positive\n",
            "14997  a traveling couple (horton hamilton)stumble on...  negative\n",
            "14998  this film deeply disappointing. not wenders di...  negative\n",
            "14999  the revelation lana turner's dancing ability. ...  positive\n",
            "\n",
            "[14961 rows x 2 columns]\n"
          ]
        }
      ]
    },
    {
      "cell_type": "markdown",
      "source": [
        "Stopwords (common words like \"and,\" \"the,\" etc.) are removed from the reviews using the NLTK library.\n",
        "The cleaned reviews are then converted to lowercase for uniformity."
      ],
      "metadata": {
        "id": "Hc0hGoRTKI9k"
      }
    },
    {
      "cell_type": "code",
      "source": [
        "X = df.iloc[:,0:1]\n",
        "y = df['sentiment']"
      ],
      "metadata": {
        "id": "xDsB0ZDq8-IA"
      },
      "execution_count": null,
      "outputs": []
    },
    {
      "cell_type": "code",
      "source": [
        "from sklearn.preprocessing import LabelEncoder\n",
        "\n",
        "encoder = LabelEncoder()\n",
        "y = encoder.fit_transform(y)"
      ],
      "metadata": {
        "id": "dnACEyuMApuc"
      },
      "execution_count": null,
      "outputs": []
    },
    {
      "cell_type": "code",
      "source": [
        "from sklearn.model_selection import train_test_split\n",
        "X_train,X_test,y_train,y_test = train_test_split(X,y,test_size=0.2,random_state=1)\n",
        "X_train.shape"
      ],
      "metadata": {
        "colab": {
          "base_uri": "https://localhost:8080/"
        },
        "id": "zBzKB9ywAthu",
        "outputId": "c9a161a8-1a0d-40b7-c7fc-bf0754676ca4"
      },
      "execution_count": null,
      "outputs": [
        {
          "output_type": "execute_result",
          "data": {
            "text/plain": [
              "(11968, 1)"
            ]
          },
          "metadata": {},
          "execution_count": 30
        }
      ]
    },
    {
      "cell_type": "code",
      "source": [
        "# Applying BoW\n",
        "from sklearn.feature_extraction.text import CountVectorizer\n",
        "cv = CountVectorizer()\n",
        "X_train_bow = cv.fit_transform(X_train['review']).toarray()\n",
        "X_test_bow = cv.transform(X_test['review']).toarray()\n",
        "\n",
        "X_train_bow.shape"
      ],
      "metadata": {
        "colab": {
          "base_uri": "https://localhost:8080/"
        },
        "id": "sLO6AbSzAwgm",
        "outputId": "3c2198fb-f437-49e9-b918-f53d11625120"
      },
      "execution_count": null,
      "outputs": [
        {
          "output_type": "execute_result",
          "data": {
            "text/plain": [
              "(11968, 57305)"
            ]
          },
          "metadata": {},
          "execution_count": 31
        }
      ]
    },
    {
      "cell_type": "markdown",
      "source": [
        "The CountVectorizer is used to convert the text reviews into a Bag of Words representation, creating a matrix of token counts for both training and testing data."
      ],
      "metadata": {
        "id": "-RCKcWtPKa6k"
      }
    },
    {
      "cell_type": "markdown",
      "source": [
        "#Training with GaussianNB"
      ],
      "metadata": {
        "id": "OBxXdG22Azc6"
      }
    },
    {
      "cell_type": "code",
      "source": [
        "from sklearn.naive_bayes import GaussianNB\n",
        "gnb = GaussianNB()\n",
        "\n",
        "gnb.fit(X_train_bow,y_train)"
      ],
      "metadata": {
        "colab": {
          "base_uri": "https://localhost:8080/",
          "height": 80
        },
        "id": "qwrR5UtPA3yw",
        "outputId": "c025a972-ac20-4c05-b1cf-54d90b97a735"
      },
      "execution_count": null,
      "outputs": [
        {
          "output_type": "execute_result",
          "data": {
            "text/plain": [
              "GaussianNB()"
            ],
            "text/html": [
              "<style>#sk-container-id-1 {\n",
              "  /* Definition of color scheme common for light and dark mode */\n",
              "  --sklearn-color-text: black;\n",
              "  --sklearn-color-line: gray;\n",
              "  /* Definition of color scheme for unfitted estimators */\n",
              "  --sklearn-color-unfitted-level-0: #fff5e6;\n",
              "  --sklearn-color-unfitted-level-1: #f6e4d2;\n",
              "  --sklearn-color-unfitted-level-2: #ffe0b3;\n",
              "  --sklearn-color-unfitted-level-3: chocolate;\n",
              "  /* Definition of color scheme for fitted estimators */\n",
              "  --sklearn-color-fitted-level-0: #f0f8ff;\n",
              "  --sklearn-color-fitted-level-1: #d4ebff;\n",
              "  --sklearn-color-fitted-level-2: #b3dbfd;\n",
              "  --sklearn-color-fitted-level-3: cornflowerblue;\n",
              "\n",
              "  /* Specific color for light theme */\n",
              "  --sklearn-color-text-on-default-background: var(--sg-text-color, var(--theme-code-foreground, var(--jp-content-font-color1, black)));\n",
              "  --sklearn-color-background: var(--sg-background-color, var(--theme-background, var(--jp-layout-color0, white)));\n",
              "  --sklearn-color-border-box: var(--sg-text-color, var(--theme-code-foreground, var(--jp-content-font-color1, black)));\n",
              "  --sklearn-color-icon: #696969;\n",
              "\n",
              "  @media (prefers-color-scheme: dark) {\n",
              "    /* Redefinition of color scheme for dark theme */\n",
              "    --sklearn-color-text-on-default-background: var(--sg-text-color, var(--theme-code-foreground, var(--jp-content-font-color1, white)));\n",
              "    --sklearn-color-background: var(--sg-background-color, var(--theme-background, var(--jp-layout-color0, #111)));\n",
              "    --sklearn-color-border-box: var(--sg-text-color, var(--theme-code-foreground, var(--jp-content-font-color1, white)));\n",
              "    --sklearn-color-icon: #878787;\n",
              "  }\n",
              "}\n",
              "\n",
              "#sk-container-id-1 {\n",
              "  color: var(--sklearn-color-text);\n",
              "}\n",
              "\n",
              "#sk-container-id-1 pre {\n",
              "  padding: 0;\n",
              "}\n",
              "\n",
              "#sk-container-id-1 input.sk-hidden--visually {\n",
              "  border: 0;\n",
              "  clip: rect(1px 1px 1px 1px);\n",
              "  clip: rect(1px, 1px, 1px, 1px);\n",
              "  height: 1px;\n",
              "  margin: -1px;\n",
              "  overflow: hidden;\n",
              "  padding: 0;\n",
              "  position: absolute;\n",
              "  width: 1px;\n",
              "}\n",
              "\n",
              "#sk-container-id-1 div.sk-dashed-wrapped {\n",
              "  border: 1px dashed var(--sklearn-color-line);\n",
              "  margin: 0 0.4em 0.5em 0.4em;\n",
              "  box-sizing: border-box;\n",
              "  padding-bottom: 0.4em;\n",
              "  background-color: var(--sklearn-color-background);\n",
              "}\n",
              "\n",
              "#sk-container-id-1 div.sk-container {\n",
              "  /* jupyter's `normalize.less` sets `[hidden] { display: none; }`\n",
              "     but bootstrap.min.css set `[hidden] { display: none !important; }`\n",
              "     so we also need the `!important` here to be able to override the\n",
              "     default hidden behavior on the sphinx rendered scikit-learn.org.\n",
              "     See: https://github.com/scikit-learn/scikit-learn/issues/21755 */\n",
              "  display: inline-block !important;\n",
              "  position: relative;\n",
              "}\n",
              "\n",
              "#sk-container-id-1 div.sk-text-repr-fallback {\n",
              "  display: none;\n",
              "}\n",
              "\n",
              "div.sk-parallel-item,\n",
              "div.sk-serial,\n",
              "div.sk-item {\n",
              "  /* draw centered vertical line to link estimators */\n",
              "  background-image: linear-gradient(var(--sklearn-color-text-on-default-background), var(--sklearn-color-text-on-default-background));\n",
              "  background-size: 2px 100%;\n",
              "  background-repeat: no-repeat;\n",
              "  background-position: center center;\n",
              "}\n",
              "\n",
              "/* Parallel-specific style estimator block */\n",
              "\n",
              "#sk-container-id-1 div.sk-parallel-item::after {\n",
              "  content: \"\";\n",
              "  width: 100%;\n",
              "  border-bottom: 2px solid var(--sklearn-color-text-on-default-background);\n",
              "  flex-grow: 1;\n",
              "}\n",
              "\n",
              "#sk-container-id-1 div.sk-parallel {\n",
              "  display: flex;\n",
              "  align-items: stretch;\n",
              "  justify-content: center;\n",
              "  background-color: var(--sklearn-color-background);\n",
              "  position: relative;\n",
              "}\n",
              "\n",
              "#sk-container-id-1 div.sk-parallel-item {\n",
              "  display: flex;\n",
              "  flex-direction: column;\n",
              "}\n",
              "\n",
              "#sk-container-id-1 div.sk-parallel-item:first-child::after {\n",
              "  align-self: flex-end;\n",
              "  width: 50%;\n",
              "}\n",
              "\n",
              "#sk-container-id-1 div.sk-parallel-item:last-child::after {\n",
              "  align-self: flex-start;\n",
              "  width: 50%;\n",
              "}\n",
              "\n",
              "#sk-container-id-1 div.sk-parallel-item:only-child::after {\n",
              "  width: 0;\n",
              "}\n",
              "\n",
              "/* Serial-specific style estimator block */\n",
              "\n",
              "#sk-container-id-1 div.sk-serial {\n",
              "  display: flex;\n",
              "  flex-direction: column;\n",
              "  align-items: center;\n",
              "  background-color: var(--sklearn-color-background);\n",
              "  padding-right: 1em;\n",
              "  padding-left: 1em;\n",
              "}\n",
              "\n",
              "\n",
              "/* Toggleable style: style used for estimator/Pipeline/ColumnTransformer box that is\n",
              "clickable and can be expanded/collapsed.\n",
              "- Pipeline and ColumnTransformer use this feature and define the default style\n",
              "- Estimators will overwrite some part of the style using the `sk-estimator` class\n",
              "*/\n",
              "\n",
              "/* Pipeline and ColumnTransformer style (default) */\n",
              "\n",
              "#sk-container-id-1 div.sk-toggleable {\n",
              "  /* Default theme specific background. It is overwritten whether we have a\n",
              "  specific estimator or a Pipeline/ColumnTransformer */\n",
              "  background-color: var(--sklearn-color-background);\n",
              "}\n",
              "\n",
              "/* Toggleable label */\n",
              "#sk-container-id-1 label.sk-toggleable__label {\n",
              "  cursor: pointer;\n",
              "  display: block;\n",
              "  width: 100%;\n",
              "  margin-bottom: 0;\n",
              "  padding: 0.5em;\n",
              "  box-sizing: border-box;\n",
              "  text-align: center;\n",
              "}\n",
              "\n",
              "#sk-container-id-1 label.sk-toggleable__label-arrow:before {\n",
              "  /* Arrow on the left of the label */\n",
              "  content: \"▸\";\n",
              "  float: left;\n",
              "  margin-right: 0.25em;\n",
              "  color: var(--sklearn-color-icon);\n",
              "}\n",
              "\n",
              "#sk-container-id-1 label.sk-toggleable__label-arrow:hover:before {\n",
              "  color: var(--sklearn-color-text);\n",
              "}\n",
              "\n",
              "/* Toggleable content - dropdown */\n",
              "\n",
              "#sk-container-id-1 div.sk-toggleable__content {\n",
              "  max-height: 0;\n",
              "  max-width: 0;\n",
              "  overflow: hidden;\n",
              "  text-align: left;\n",
              "  /* unfitted */\n",
              "  background-color: var(--sklearn-color-unfitted-level-0);\n",
              "}\n",
              "\n",
              "#sk-container-id-1 div.sk-toggleable__content.fitted {\n",
              "  /* fitted */\n",
              "  background-color: var(--sklearn-color-fitted-level-0);\n",
              "}\n",
              "\n",
              "#sk-container-id-1 div.sk-toggleable__content pre {\n",
              "  margin: 0.2em;\n",
              "  border-radius: 0.25em;\n",
              "  color: var(--sklearn-color-text);\n",
              "  /* unfitted */\n",
              "  background-color: var(--sklearn-color-unfitted-level-0);\n",
              "}\n",
              "\n",
              "#sk-container-id-1 div.sk-toggleable__content.fitted pre {\n",
              "  /* unfitted */\n",
              "  background-color: var(--sklearn-color-fitted-level-0);\n",
              "}\n",
              "\n",
              "#sk-container-id-1 input.sk-toggleable__control:checked~div.sk-toggleable__content {\n",
              "  /* Expand drop-down */\n",
              "  max-height: 200px;\n",
              "  max-width: 100%;\n",
              "  overflow: auto;\n",
              "}\n",
              "\n",
              "#sk-container-id-1 input.sk-toggleable__control:checked~label.sk-toggleable__label-arrow:before {\n",
              "  content: \"▾\";\n",
              "}\n",
              "\n",
              "/* Pipeline/ColumnTransformer-specific style */\n",
              "\n",
              "#sk-container-id-1 div.sk-label input.sk-toggleable__control:checked~label.sk-toggleable__label {\n",
              "  color: var(--sklearn-color-text);\n",
              "  background-color: var(--sklearn-color-unfitted-level-2);\n",
              "}\n",
              "\n",
              "#sk-container-id-1 div.sk-label.fitted input.sk-toggleable__control:checked~label.sk-toggleable__label {\n",
              "  background-color: var(--sklearn-color-fitted-level-2);\n",
              "}\n",
              "\n",
              "/* Estimator-specific style */\n",
              "\n",
              "/* Colorize estimator box */\n",
              "#sk-container-id-1 div.sk-estimator input.sk-toggleable__control:checked~label.sk-toggleable__label {\n",
              "  /* unfitted */\n",
              "  background-color: var(--sklearn-color-unfitted-level-2);\n",
              "}\n",
              "\n",
              "#sk-container-id-1 div.sk-estimator.fitted input.sk-toggleable__control:checked~label.sk-toggleable__label {\n",
              "  /* fitted */\n",
              "  background-color: var(--sklearn-color-fitted-level-2);\n",
              "}\n",
              "\n",
              "#sk-container-id-1 div.sk-label label.sk-toggleable__label,\n",
              "#sk-container-id-1 div.sk-label label {\n",
              "  /* The background is the default theme color */\n",
              "  color: var(--sklearn-color-text-on-default-background);\n",
              "}\n",
              "\n",
              "/* On hover, darken the color of the background */\n",
              "#sk-container-id-1 div.sk-label:hover label.sk-toggleable__label {\n",
              "  color: var(--sklearn-color-text);\n",
              "  background-color: var(--sklearn-color-unfitted-level-2);\n",
              "}\n",
              "\n",
              "/* Label box, darken color on hover, fitted */\n",
              "#sk-container-id-1 div.sk-label.fitted:hover label.sk-toggleable__label.fitted {\n",
              "  color: var(--sklearn-color-text);\n",
              "  background-color: var(--sklearn-color-fitted-level-2);\n",
              "}\n",
              "\n",
              "/* Estimator label */\n",
              "\n",
              "#sk-container-id-1 div.sk-label label {\n",
              "  font-family: monospace;\n",
              "  font-weight: bold;\n",
              "  display: inline-block;\n",
              "  line-height: 1.2em;\n",
              "}\n",
              "\n",
              "#sk-container-id-1 div.sk-label-container {\n",
              "  text-align: center;\n",
              "}\n",
              "\n",
              "/* Estimator-specific */\n",
              "#sk-container-id-1 div.sk-estimator {\n",
              "  font-family: monospace;\n",
              "  border: 1px dotted var(--sklearn-color-border-box);\n",
              "  border-radius: 0.25em;\n",
              "  box-sizing: border-box;\n",
              "  margin-bottom: 0.5em;\n",
              "  /* unfitted */\n",
              "  background-color: var(--sklearn-color-unfitted-level-0);\n",
              "}\n",
              "\n",
              "#sk-container-id-1 div.sk-estimator.fitted {\n",
              "  /* fitted */\n",
              "  background-color: var(--sklearn-color-fitted-level-0);\n",
              "}\n",
              "\n",
              "/* on hover */\n",
              "#sk-container-id-1 div.sk-estimator:hover {\n",
              "  /* unfitted */\n",
              "  background-color: var(--sklearn-color-unfitted-level-2);\n",
              "}\n",
              "\n",
              "#sk-container-id-1 div.sk-estimator.fitted:hover {\n",
              "  /* fitted */\n",
              "  background-color: var(--sklearn-color-fitted-level-2);\n",
              "}\n",
              "\n",
              "/* Specification for estimator info (e.g. \"i\" and \"?\") */\n",
              "\n",
              "/* Common style for \"i\" and \"?\" */\n",
              "\n",
              ".sk-estimator-doc-link,\n",
              "a:link.sk-estimator-doc-link,\n",
              "a:visited.sk-estimator-doc-link {\n",
              "  float: right;\n",
              "  font-size: smaller;\n",
              "  line-height: 1em;\n",
              "  font-family: monospace;\n",
              "  background-color: var(--sklearn-color-background);\n",
              "  border-radius: 1em;\n",
              "  height: 1em;\n",
              "  width: 1em;\n",
              "  text-decoration: none !important;\n",
              "  margin-left: 1ex;\n",
              "  /* unfitted */\n",
              "  border: var(--sklearn-color-unfitted-level-1) 1pt solid;\n",
              "  color: var(--sklearn-color-unfitted-level-1);\n",
              "}\n",
              "\n",
              ".sk-estimator-doc-link.fitted,\n",
              "a:link.sk-estimator-doc-link.fitted,\n",
              "a:visited.sk-estimator-doc-link.fitted {\n",
              "  /* fitted */\n",
              "  border: var(--sklearn-color-fitted-level-1) 1pt solid;\n",
              "  color: var(--sklearn-color-fitted-level-1);\n",
              "}\n",
              "\n",
              "/* On hover */\n",
              "div.sk-estimator:hover .sk-estimator-doc-link:hover,\n",
              ".sk-estimator-doc-link:hover,\n",
              "div.sk-label-container:hover .sk-estimator-doc-link:hover,\n",
              ".sk-estimator-doc-link:hover {\n",
              "  /* unfitted */\n",
              "  background-color: var(--sklearn-color-unfitted-level-3);\n",
              "  color: var(--sklearn-color-background);\n",
              "  text-decoration: none;\n",
              "}\n",
              "\n",
              "div.sk-estimator.fitted:hover .sk-estimator-doc-link.fitted:hover,\n",
              ".sk-estimator-doc-link.fitted:hover,\n",
              "div.sk-label-container:hover .sk-estimator-doc-link.fitted:hover,\n",
              ".sk-estimator-doc-link.fitted:hover {\n",
              "  /* fitted */\n",
              "  background-color: var(--sklearn-color-fitted-level-3);\n",
              "  color: var(--sklearn-color-background);\n",
              "  text-decoration: none;\n",
              "}\n",
              "\n",
              "/* Span, style for the box shown on hovering the info icon */\n",
              ".sk-estimator-doc-link span {\n",
              "  display: none;\n",
              "  z-index: 9999;\n",
              "  position: relative;\n",
              "  font-weight: normal;\n",
              "  right: .2ex;\n",
              "  padding: .5ex;\n",
              "  margin: .5ex;\n",
              "  width: min-content;\n",
              "  min-width: 20ex;\n",
              "  max-width: 50ex;\n",
              "  color: var(--sklearn-color-text);\n",
              "  box-shadow: 2pt 2pt 4pt #999;\n",
              "  /* unfitted */\n",
              "  background: var(--sklearn-color-unfitted-level-0);\n",
              "  border: .5pt solid var(--sklearn-color-unfitted-level-3);\n",
              "}\n",
              "\n",
              ".sk-estimator-doc-link.fitted span {\n",
              "  /* fitted */\n",
              "  background: var(--sklearn-color-fitted-level-0);\n",
              "  border: var(--sklearn-color-fitted-level-3);\n",
              "}\n",
              "\n",
              ".sk-estimator-doc-link:hover span {\n",
              "  display: block;\n",
              "}\n",
              "\n",
              "/* \"?\"-specific style due to the `<a>` HTML tag */\n",
              "\n",
              "#sk-container-id-1 a.estimator_doc_link {\n",
              "  float: right;\n",
              "  font-size: 1rem;\n",
              "  line-height: 1em;\n",
              "  font-family: monospace;\n",
              "  background-color: var(--sklearn-color-background);\n",
              "  border-radius: 1rem;\n",
              "  height: 1rem;\n",
              "  width: 1rem;\n",
              "  text-decoration: none;\n",
              "  /* unfitted */\n",
              "  color: var(--sklearn-color-unfitted-level-1);\n",
              "  border: var(--sklearn-color-unfitted-level-1) 1pt solid;\n",
              "}\n",
              "\n",
              "#sk-container-id-1 a.estimator_doc_link.fitted {\n",
              "  /* fitted */\n",
              "  border: var(--sklearn-color-fitted-level-1) 1pt solid;\n",
              "  color: var(--sklearn-color-fitted-level-1);\n",
              "}\n",
              "\n",
              "/* On hover */\n",
              "#sk-container-id-1 a.estimator_doc_link:hover {\n",
              "  /* unfitted */\n",
              "  background-color: var(--sklearn-color-unfitted-level-3);\n",
              "  color: var(--sklearn-color-background);\n",
              "  text-decoration: none;\n",
              "}\n",
              "\n",
              "#sk-container-id-1 a.estimator_doc_link.fitted:hover {\n",
              "  /* fitted */\n",
              "  background-color: var(--sklearn-color-fitted-level-3);\n",
              "}\n",
              "</style><div id=\"sk-container-id-1\" class=\"sk-top-container\"><div class=\"sk-text-repr-fallback\"><pre>GaussianNB()</pre><b>In a Jupyter environment, please rerun this cell to show the HTML representation or trust the notebook. <br />On GitHub, the HTML representation is unable to render, please try loading this page with nbviewer.org.</b></div><div class=\"sk-container\" hidden><div class=\"sk-item\"><div class=\"sk-estimator fitted sk-toggleable\"><input class=\"sk-toggleable__control sk-hidden--visually\" id=\"sk-estimator-id-1\" type=\"checkbox\" checked><label for=\"sk-estimator-id-1\" class=\"sk-toggleable__label fitted sk-toggleable__label-arrow fitted\">&nbsp;&nbsp;GaussianNB<a class=\"sk-estimator-doc-link fitted\" rel=\"noreferrer\" target=\"_blank\" href=\"https://scikit-learn.org/1.5/modules/generated/sklearn.naive_bayes.GaussianNB.html\">?<span>Documentation for GaussianNB</span></a><span class=\"sk-estimator-doc-link fitted\">i<span>Fitted</span></span></label><div class=\"sk-toggleable__content fitted\"><pre>GaussianNB()</pre></div> </div></div></div></div>"
            ]
          },
          "metadata": {},
          "execution_count": 32
        }
      ]
    },
    {
      "cell_type": "code",
      "source": [
        "y_pred = gnb.predict(X_test_bow)\n",
        "\n",
        "from sklearn.metrics import accuracy_score,confusion_matrix\n",
        "accuracy_score(y_test,y_pred)"
      ],
      "metadata": {
        "colab": {
          "base_uri": "https://localhost:8080/"
        },
        "id": "xpHRP8UkA6o9",
        "outputId": "58ce2478-4d55-4064-c6dc-5a721426f37a"
      },
      "execution_count": null,
      "outputs": [
        {
          "output_type": "execute_result",
          "data": {
            "text/plain": [
              "0.6625459405278984"
            ]
          },
          "metadata": {},
          "execution_count": 33
        }
      ]
    },
    {
      "cell_type": "code",
      "source": [
        "confusion_matrix(y_test,y_pred)"
      ],
      "metadata": {
        "colab": {
          "base_uri": "https://localhost:8080/"
        },
        "id": "0R5IGwYRA6lx",
        "outputId": "0f0e508a-4364-42c5-832d-b771420bb8a9"
      },
      "execution_count": null,
      "outputs": [
        {
          "output_type": "execute_result",
          "data": {
            "text/plain": [
              "array([[1144,  359],\n",
              "       [ 651,  839]])"
            ]
          },
          "metadata": {},
          "execution_count": 34
        }
      ]
    },
    {
      "cell_type": "markdown",
      "source": [
        "A Gaussian Naive Bayes classifier is trained on the BoW features, and predictions are made on the test set.\n",
        "The accuracy of the model and the confusion matrix are computed to evaluate performance."
      ],
      "metadata": {
        "id": "jBfgrM1CKiz0"
      }
    },
    {
      "cell_type": "markdown",
      "source": [
        "#Training with Random Forest Classifier"
      ],
      "metadata": {
        "id": "udI4bP83BHNi"
      }
    },
    {
      "cell_type": "code",
      "source": [
        "from sklearn.ensemble import RandomForestClassifier\n",
        "rf = RandomForestClassifier()\n",
        "\n",
        "rf.fit(X_train_bow,y_train)\n",
        "y_pred = rf.predict(X_test_bow)\n",
        "accuracy_score(y_test,y_pred)"
      ],
      "metadata": {
        "colab": {
          "base_uri": "https://localhost:8080/"
        },
        "id": "EKTfSxaKA6jA",
        "outputId": "b57351d2-1a00-48f1-9c46-1d57b7352b84"
      },
      "execution_count": null,
      "outputs": [
        {
          "output_type": "execute_result",
          "data": {
            "text/plain": [
              "0.8509856331440027"
            ]
          },
          "metadata": {},
          "execution_count": 35
        }
      ]
    },
    {
      "cell_type": "markdown",
      "source": [
        "A Random Forest classifier is also trained using the BoW features and evaluated for accuracy."
      ],
      "metadata": {
        "id": "DweCbES3Lktx"
      }
    },
    {
      "cell_type": "code",
      "source": [
        "cv = CountVectorizer(max_features=3000)\n",
        "\n",
        "X_train_bow = cv.fit_transform(X_train['review']).toarray()\n",
        "X_test_bow = cv.transform(X_test['review']).toarray()\n",
        "\n",
        "rf = RandomForestClassifier()\n",
        "\n",
        "rf.fit(X_train_bow,y_train)\n",
        "y_pred = rf.predict(X_test_bow)\n",
        "accuracy_score(y_test,y_pred)"
      ],
      "metadata": {
        "colab": {
          "base_uri": "https://localhost:8080/"
        },
        "id": "vJuvGh3nBP1s",
        "outputId": "bbd3d9a1-5d03-45ae-9c64-95aa8c9f7ab9"
      },
      "execution_count": null,
      "outputs": [
        {
          "output_type": "execute_result",
          "data": {
            "text/plain": [
              "0.8342799866354828"
            ]
          },
          "metadata": {},
          "execution_count": 36
        }
      ]
    },
    {
      "cell_type": "markdown",
      "source": [
        "converts text reviews into a Bag of Words representation using the top 3,000 most frequent words, trains a Random Forest model on this data, and evaluates its accuracy in predicting sentiment labels."
      ],
      "metadata": {
        "id": "qHkIlMA8K6KL"
      }
    },
    {
      "cell_type": "code",
      "source": [
        "cv = CountVectorizer(ngram_range=(1,2),max_features=5000)\n",
        "\n",
        "X_train_bow = cv.fit_transform(X_train['review']).toarray()\n",
        "X_test_bow = cv.transform(X_test['review']).toarray()\n",
        "\n",
        "rf = RandomForestClassifier()\n",
        "\n",
        "rf.fit(X_train_bow,y_train)\n",
        "y_pred = rf.predict(X_test_bow)\n",
        "accuracy_score(y_test,y_pred)"
      ],
      "metadata": {
        "colab": {
          "base_uri": "https://localhost:8080/"
        },
        "id": "nZ53LGWDCUTT",
        "outputId": "ae812adc-3196-4978-9824-1ffed373018d"
      },
      "execution_count": null,
      "outputs": [
        {
          "output_type": "execute_result",
          "data": {
            "text/plain": [
              "0.8362846642165052"
            ]
          },
          "metadata": {},
          "execution_count": 37
        }
      ]
    },
    {
      "cell_type": "markdown",
      "source": [
        "The feature extraction is enhanced by including bigrams (sequences of two words) using the ngram_range parameter, and the process is repeated for training and evaluation."
      ],
      "metadata": {
        "id": "4VJjflWLK4t-"
      }
    },
    {
      "cell_type": "markdown",
      "source": [
        "#**Using TF-IDF**"
      ],
      "metadata": {
        "id": "aXR8nDA1CmCH"
      }
    },
    {
      "cell_type": "code",
      "source": [
        "from sklearn.feature_extraction.text import TfidfVectorizer\n",
        "tfidf = TfidfVectorizer()\n",
        "\n",
        "X_train_tfidf = tfidf.fit_transform(X_train['review']).toarray()\n",
        "X_test_tfidf = tfidf.transform(X_test['review'])"
      ],
      "metadata": {
        "id": "a5n8mQ8ICqnj"
      },
      "execution_count": null,
      "outputs": []
    },
    {
      "cell_type": "markdown",
      "source": [
        "The TF-IDF vectorization method is applied to convert the text into a TF-IDF representation. A Random Forest classifier is trained on these features, and accuracy is computed."
      ],
      "metadata": {
        "id": "xEfNRL4TMGHo"
      }
    },
    {
      "cell_type": "code",
      "source": [
        "rf = RandomForestClassifier()\n",
        "\n",
        "rf.fit(X_train_tfidf,y_train)\n",
        "y_pred = rf.predict(X_test_tfidf)\n",
        "\n",
        "accuracy_score(y_test,y_pred)"
      ],
      "metadata": {
        "id": "tFQ_IjE1CwDl",
        "colab": {
          "base_uri": "https://localhost:8080/"
        },
        "outputId": "2c3b4b8c-b420-42bc-e54e-8a4f9cdee8cf"
      },
      "execution_count": null,
      "outputs": [
        {
          "output_type": "execute_result",
          "data": {
            "text/plain": [
              "0.8416304710992315"
            ]
          },
          "metadata": {},
          "execution_count": 39
        }
      ]
    },
    {
      "cell_type": "markdown",
      "source": [
        "#**Using Word2Vec**"
      ],
      "metadata": {
        "id": "En02VaZsC6D8"
      }
    },
    {
      "cell_type": "code",
      "source": [
        "import gensim\n",
        "import nltk\n",
        "nltk.download('punkt')\n",
        "\n",
        "from nltk import sent_tokenize\n",
        "from gensim.utils import simple_preprocess\n",
        "story = []\n",
        "for doc in df['review']:\n",
        "    raw_sent = sent_tokenize(doc)\n",
        "    for sent in raw_sent:\n",
        "        story.append(simple_preprocess(sent))\n",
        "\n",
        "model = gensim.models.Word2Vec(\n",
        "    window=10,\n",
        "    min_count=2\n",
        ")"
      ],
      "metadata": {
        "id": "M9Hzh8OzC5Jn",
        "colab": {
          "base_uri": "https://localhost:8080/"
        },
        "outputId": "2e9b6fce-35b0-43a5-f242-1e4a78f0feb5"
      },
      "execution_count": null,
      "outputs": [
        {
          "output_type": "stream",
          "name": "stderr",
          "text": [
            "[nltk_data] Downloading package punkt to /root/nltk_data...\n",
            "[nltk_data]   Unzipping tokenizers/punkt.zip.\n"
          ]
        }
      ]
    },
    {
      "cell_type": "markdown",
      "source": [
        "Sentences are tokenized from the reviews and processed into a list of words for Word2Vec training.\n",
        "A Word2Vec model is initialized, built, and trained on the tokenized sentences to learn word embeddings."
      ],
      "metadata": {
        "id": "23h4kATyMR77"
      }
    },
    {
      "cell_type": "code",
      "source": [
        "model.build_vocab(story)\n",
        "model.train(story, total_examples=model.corpus_count, epochs=model.epochs)"
      ],
      "metadata": {
        "id": "CDfylSQ9DCRB",
        "colab": {
          "base_uri": "https://localhost:8080/"
        },
        "outputId": "b2aeb000-d731-4eaf-f2c5-167558d4fb69"
      },
      "execution_count": null,
      "outputs": [
        {
          "output_type": "execute_result",
          "data": {
            "text/plain": [
              "(9197228, 9810805)"
            ]
          },
          "metadata": {},
          "execution_count": 42
        }
      ]
    },
    {
      "cell_type": "code",
      "source": [
        "len(model.wv.index_to_key)"
      ],
      "metadata": {
        "id": "M7no40DqDG4M",
        "colab": {
          "base_uri": "https://localhost:8080/"
        },
        "outputId": "3ef00684-7b00-4b77-8761-bff0d1a1ef5a"
      },
      "execution_count": null,
      "outputs": [
        {
          "output_type": "execute_result",
          "data": {
            "text/plain": [
              "38121"
            ]
          },
          "metadata": {},
          "execution_count": 43
        }
      ]
    },
    {
      "cell_type": "code",
      "source": [
        "def document_vector(doc):\n",
        "    # remove out-of-vocabulary words\n",
        "    doc = [word for word in doc.split() if word in model.wv.index_to_key]\n",
        "    return np.mean(model.wv[doc], axis=0)\n",
        "\n",
        "document_vector(df['review'].values[0])"
      ],
      "metadata": {
        "id": "0_uUKGSgDJka",
        "colab": {
          "base_uri": "https://localhost:8080/"
        },
        "outputId": "934ffa33-fef0-45fa-ca49-47e6bb42e28b"
      },
      "execution_count": null,
      "outputs": [
        {
          "output_type": "execute_result",
          "data": {
            "text/plain": [
              "array([-1.21867247e-01,  1.98360085e-01,  1.77877396e-02,  6.53934723e-04,\n",
              "        6.30961433e-02, -6.46396875e-01,  2.84476131e-01,  6.99922562e-01,\n",
              "       -1.11608893e-01, -3.72724861e-01, -9.32564884e-02, -6.02043509e-01,\n",
              "       -3.69267911e-02,  4.23178464e-01, -1.76801980e-02, -4.76853460e-01,\n",
              "       -1.49038836e-01, -2.25483909e-01,  7.32048079e-02, -4.60291415e-01,\n",
              "        5.19118786e-01,  1.52935162e-01,  3.02278817e-01,  2.18892068e-01,\n",
              "        3.49237695e-02, -7.79215395e-02, -1.92852050e-01, -1.55371487e-01,\n",
              "       -3.10850084e-01, -6.02239519e-02,  4.27446514e-01,  1.38595894e-01,\n",
              "        1.02748372e-01, -2.26638302e-01,  4.92330864e-02,  6.06161714e-01,\n",
              "        5.96871413e-02, -3.50647002e-01, -1.66628689e-01, -7.09155738e-01,\n",
              "        2.39120603e-01, -3.90726298e-01,  6.71600997e-02,  1.44873247e-01,\n",
              "        1.25350431e-01, -2.33766902e-02, -3.54483813e-01, -2.11934805e-01,\n",
              "       -2.87121460e-02,  1.99263036e-01,  2.06211612e-01, -2.17697620e-01,\n",
              "       -1.22451507e-01,  7.29254354e-03, -1.81883276e-01,  2.33259033e-02,\n",
              "        3.01158607e-01, -1.26457646e-01, -4.10682261e-01,  4.35565896e-02,\n",
              "        1.20382905e-01,  7.11887628e-02,  1.06213890e-01, -9.63659883e-02,\n",
              "       -5.92747569e-01,  1.16783060e-01, -7.60270208e-02,  4.64215018e-02,\n",
              "       -4.60179538e-01,  2.00293705e-01, -4.02583241e-01,  2.36262549e-02,\n",
              "        1.35523662e-01, -6.36012554e-02,  3.90950352e-01, -6.05279859e-03,\n",
              "       -7.30831525e-05, -4.81353723e-04, -4.76690739e-01,  2.78621137e-01,\n",
              "       -8.61787423e-02,  4.83383387e-02, -3.74154687e-01,  5.10647774e-01,\n",
              "       -3.37442994e-01,  2.09771283e-02,  1.39355496e-01,  4.35127735e-01,\n",
              "        3.44670355e-01, -8.43020603e-02,  1.39436498e-01,  7.05318674e-02,\n",
              "        1.39815345e-01,  1.60553694e-01,  3.38226259e-01,  3.36199626e-02,\n",
              "        8.80205780e-02, -3.12425703e-01,  6.47779107e-02,  1.27170280e-01],\n",
              "      dtype=float32)"
            ]
          },
          "metadata": {},
          "execution_count": 44
        }
      ]
    },
    {
      "cell_type": "markdown",
      "source": [
        "A function is defined to calculate document vectors by averaging the word vectors of words in a document.\n",
        "The function is applied to all reviews to create a NumPy array of document vectors"
      ],
      "metadata": {
        "id": "lSF4ARHMMZOV"
      }
    },
    {
      "cell_type": "code",
      "source": [
        "from tqdm import tqdm\n",
        "X = []\n",
        "for doc in tqdm(df['review'].values):\n",
        "    X.append(document_vector(doc))"
      ],
      "metadata": {
        "id": "-Uz-q5MED0dZ",
        "colab": {
          "base_uri": "https://localhost:8080/"
        },
        "outputId": "80a6a6e5-5ed0-41d5-c767-d78020a7d023"
      },
      "execution_count": null,
      "outputs": [
        {
          "output_type": "stream",
          "name": "stderr",
          "text": [
            "100%|██████████| 14961/14961 [12:46<00:00, 19.51it/s]\n"
          ]
        }
      ]
    },
    {
      "cell_type": "code",
      "source": [
        "X = np.array(X)\n",
        "X[0]"
      ],
      "metadata": {
        "id": "hXjP2ov9D1fy",
        "colab": {
          "base_uri": "https://localhost:8080/"
        },
        "outputId": "f95f08b1-6de4-40c2-bc76-c34cb1ebb1db"
      },
      "execution_count": null,
      "outputs": [
        {
          "output_type": "execute_result",
          "data": {
            "text/plain": [
              "array([-1.21867247e-01,  1.98360085e-01,  1.77877396e-02,  6.53934723e-04,\n",
              "        6.30961433e-02, -6.46396875e-01,  2.84476131e-01,  6.99922562e-01,\n",
              "       -1.11608893e-01, -3.72724861e-01, -9.32564884e-02, -6.02043509e-01,\n",
              "       -3.69267911e-02,  4.23178464e-01, -1.76801980e-02, -4.76853460e-01,\n",
              "       -1.49038836e-01, -2.25483909e-01,  7.32048079e-02, -4.60291415e-01,\n",
              "        5.19118786e-01,  1.52935162e-01,  3.02278817e-01,  2.18892068e-01,\n",
              "        3.49237695e-02, -7.79215395e-02, -1.92852050e-01, -1.55371487e-01,\n",
              "       -3.10850084e-01, -6.02239519e-02,  4.27446514e-01,  1.38595894e-01,\n",
              "        1.02748372e-01, -2.26638302e-01,  4.92330864e-02,  6.06161714e-01,\n",
              "        5.96871413e-02, -3.50647002e-01, -1.66628689e-01, -7.09155738e-01,\n",
              "        2.39120603e-01, -3.90726298e-01,  6.71600997e-02,  1.44873247e-01,\n",
              "        1.25350431e-01, -2.33766902e-02, -3.54483813e-01, -2.11934805e-01,\n",
              "       -2.87121460e-02,  1.99263036e-01,  2.06211612e-01, -2.17697620e-01,\n",
              "       -1.22451507e-01,  7.29254354e-03, -1.81883276e-01,  2.33259033e-02,\n",
              "        3.01158607e-01, -1.26457646e-01, -4.10682261e-01,  4.35565896e-02,\n",
              "        1.20382905e-01,  7.11887628e-02,  1.06213890e-01, -9.63659883e-02,\n",
              "       -5.92747569e-01,  1.16783060e-01, -7.60270208e-02,  4.64215018e-02,\n",
              "       -4.60179538e-01,  2.00293705e-01, -4.02583241e-01,  2.36262549e-02,\n",
              "        1.35523662e-01, -6.36012554e-02,  3.90950352e-01, -6.05279859e-03,\n",
              "       -7.30831525e-05, -4.81353723e-04, -4.76690739e-01,  2.78621137e-01,\n",
              "       -8.61787423e-02,  4.83383387e-02, -3.74154687e-01,  5.10647774e-01,\n",
              "       -3.37442994e-01,  2.09771283e-02,  1.39355496e-01,  4.35127735e-01,\n",
              "        3.44670355e-01, -8.43020603e-02,  1.39436498e-01,  7.05318674e-02,\n",
              "        1.39815345e-01,  1.60553694e-01,  3.38226259e-01,  3.36199626e-02,\n",
              "        8.80205780e-02, -3.12425703e-01,  6.47779107e-02,  1.27170280e-01],\n",
              "      dtype=float32)"
            ]
          },
          "metadata": {},
          "execution_count": 46
        }
      ]
    },
    {
      "cell_type": "code",
      "source": [
        "from sklearn.preprocessing import LabelEncoder\n",
        "encoder = LabelEncoder()\n",
        "\n",
        "y = encoder.fit_transform(df['sentiment'])\n",
        "y"
      ],
      "metadata": {
        "id": "IBYJUH7IEE8H",
        "colab": {
          "base_uri": "https://localhost:8080/"
        },
        "outputId": "65272438-f278-4297-bab5-ec301817d8e2"
      },
      "execution_count": null,
      "outputs": [
        {
          "output_type": "execute_result",
          "data": {
            "text/plain": [
              "array([1, 1, 1, ..., 0, 0, 1])"
            ]
          },
          "metadata": {},
          "execution_count": 47
        }
      ]
    },
    {
      "cell_type": "markdown",
      "source": [
        "Finally, a Random Forest classifier is trained on the document vectors, and its accuracy is evaluated on the test set."
      ],
      "metadata": {
        "id": "NMFd72mrMlpt"
      }
    },
    {
      "cell_type": "code",
      "source": [
        "from sklearn.model_selection import train_test_split\n",
        "from sklearn.ensemble import RandomForestClassifier\n",
        "from sklearn.metrics import accuracy_score\n",
        "\n",
        "X_train,X_test,y_train,y_test = train_test_split(X,y,test_size=0.2,random_state=1)\n",
        "\n",
        "rf = RandomForestClassifier()\n",
        "rf.fit(X_train,y_train)\n",
        "y_pred = rf.predict(X_test)\n",
        "accuracy_score(y_test,y_pred)"
      ],
      "metadata": {
        "id": "lUPQKPi-EHlr",
        "colab": {
          "base_uri": "https://localhost:8080/"
        },
        "outputId": "a805ba95-7ef3-4899-9819-98ce47ceefc2"
      },
      "execution_count": null,
      "outputs": [
        {
          "output_type": "execute_result",
          "data": {
            "text/plain": [
              "0.7901770798529903"
            ]
          },
          "metadata": {},
          "execution_count": 48
        }
      ]
    }
  ]
}